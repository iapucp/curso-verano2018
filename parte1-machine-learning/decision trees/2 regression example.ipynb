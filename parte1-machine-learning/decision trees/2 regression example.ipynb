{
 "cells": [
  {
   "cell_type": "code",
   "execution_count": 1,
   "metadata": {},
   "outputs": [],
   "source": [
    "import os\n",
    "import pandas as pd\n",
    "import numpy as np\n",
    "import matplotlib.pyplot as plt\n",
    "from pprint import pprint\n",
    "from pathlib import Path\n",
    "from sklearn.tree import DecisionTreeRegressor\n",
    "from treeinterpreter import treeinterpreter\n",
    "from utils import draw_tree, waterfallplot\n",
    "pd.set_option('display.max_columns', None)\n",
    "%matplotlib inline"
   ]
  },
  {
   "cell_type": "markdown",
   "metadata": {},
   "source": [
    "# Data"
   ]
  },
  {
   "cell_type": "markdown",
   "metadata": {},
   "source": [
    "from http://data.princeton.edu/wws509/datasets/#salary\n",
    "\n",
    "These are the salary data used in Weisberg's book, consisting of observations on six variables for 52 tenure-track professors in a small college. The variables are:\n",
    "\n",
    "    sx = Sex\n",
    "    rk = Rank\n",
    "    yr = Number of years in current rank\n",
    "    dg = Highest degree\n",
    "    yd = Number of years since highest degree was earned\n",
    "    sl = Academic year salary, in dollars. "
   ]
  },
  {
   "cell_type": "markdown",
   "metadata": {},
   "source": [
    "## Read data"
   ]
  },
  {
   "cell_type": "code",
   "execution_count": 2,
   "metadata": {},
   "outputs": [
    {
     "name": "stdout",
     "output_type": "stream",
     "text": [
      "(52, 6)\n"
     ]
    },
    {
     "data": {
      "text/html": [
       "<div>\n",
       "<style scoped>\n",
       "    .dataframe tbody tr th:only-of-type {\n",
       "        vertical-align: middle;\n",
       "    }\n",
       "\n",
       "    .dataframe tbody tr th {\n",
       "        vertical-align: top;\n",
       "    }\n",
       "\n",
       "    .dataframe thead th {\n",
       "        text-align: right;\n",
       "    }\n",
       "</style>\n",
       "<table border=\"1\" class=\"dataframe\">\n",
       "  <thead>\n",
       "    <tr style=\"text-align: right;\">\n",
       "      <th></th>\n",
       "      <th>sx</th>\n",
       "      <th>rk</th>\n",
       "      <th>yr</th>\n",
       "      <th>dg</th>\n",
       "      <th>yd</th>\n",
       "      <th>sl</th>\n",
       "    </tr>\n",
       "  </thead>\n",
       "  <tbody>\n",
       "    <tr>\n",
       "      <th>0</th>\n",
       "      <td>male</td>\n",
       "      <td>full</td>\n",
       "      <td>25</td>\n",
       "      <td>doctorate</td>\n",
       "      <td>35</td>\n",
       "      <td>36350</td>\n",
       "    </tr>\n",
       "    <tr>\n",
       "      <th>1</th>\n",
       "      <td>male</td>\n",
       "      <td>full</td>\n",
       "      <td>13</td>\n",
       "      <td>doctorate</td>\n",
       "      <td>22</td>\n",
       "      <td>35350</td>\n",
       "    </tr>\n",
       "    <tr>\n",
       "      <th>2</th>\n",
       "      <td>male</td>\n",
       "      <td>full</td>\n",
       "      <td>10</td>\n",
       "      <td>doctorate</td>\n",
       "      <td>23</td>\n",
       "      <td>28200</td>\n",
       "    </tr>\n",
       "    <tr>\n",
       "      <th>3</th>\n",
       "      <td>female</td>\n",
       "      <td>full</td>\n",
       "      <td>7</td>\n",
       "      <td>doctorate</td>\n",
       "      <td>27</td>\n",
       "      <td>26775</td>\n",
       "    </tr>\n",
       "    <tr>\n",
       "      <th>4</th>\n",
       "      <td>male</td>\n",
       "      <td>full</td>\n",
       "      <td>19</td>\n",
       "      <td>masters</td>\n",
       "      <td>30</td>\n",
       "      <td>33696</td>\n",
       "    </tr>\n",
       "  </tbody>\n",
       "</table>\n",
       "</div>"
      ],
      "text/plain": [
       "       sx    rk  yr         dg  yd     sl\n",
       "0    male  full  25  doctorate  35  36350\n",
       "1    male  full  13  doctorate  22  35350\n",
       "2    male  full  10  doctorate  23  28200\n",
       "3  female  full   7  doctorate  27  26775\n",
       "4    male  full  19    masters  30  33696"
      ]
     },
     "execution_count": 2,
     "metadata": {},
     "output_type": "execute_result"
    }
   ],
   "source": [
    "df = pd.read_csv('data/salaries_data.dat', sep='\\s+')\n",
    "print(df.shape)\n",
    "df.head()"
   ]
  },
  {
   "cell_type": "markdown",
   "metadata": {},
   "source": [
    "## Explore variables"
   ]
  },
  {
   "cell_type": "code",
   "execution_count": 3,
   "metadata": {},
   "outputs": [
    {
     "data": {
      "text/html": [
       "<div>\n",
       "<style scoped>\n",
       "    .dataframe tbody tr th:only-of-type {\n",
       "        vertical-align: middle;\n",
       "    }\n",
       "\n",
       "    .dataframe tbody tr th {\n",
       "        vertical-align: top;\n",
       "    }\n",
       "\n",
       "    .dataframe thead th {\n",
       "        text-align: right;\n",
       "    }\n",
       "</style>\n",
       "<table border=\"1\" class=\"dataframe\">\n",
       "  <thead>\n",
       "    <tr style=\"text-align: right;\">\n",
       "      <th></th>\n",
       "      <th>yr</th>\n",
       "      <th>yd</th>\n",
       "      <th>sl</th>\n",
       "    </tr>\n",
       "  </thead>\n",
       "  <tbody>\n",
       "    <tr>\n",
       "      <th>count</th>\n",
       "      <td>52.000000</td>\n",
       "      <td>52.000000</td>\n",
       "      <td>52.000000</td>\n",
       "    </tr>\n",
       "    <tr>\n",
       "      <th>mean</th>\n",
       "      <td>7.480769</td>\n",
       "      <td>16.115385</td>\n",
       "      <td>23797.653846</td>\n",
       "    </tr>\n",
       "    <tr>\n",
       "      <th>std</th>\n",
       "      <td>5.507536</td>\n",
       "      <td>10.222340</td>\n",
       "      <td>5917.289154</td>\n",
       "    </tr>\n",
       "    <tr>\n",
       "      <th>min</th>\n",
       "      <td>0.000000</td>\n",
       "      <td>1.000000</td>\n",
       "      <td>15000.000000</td>\n",
       "    </tr>\n",
       "    <tr>\n",
       "      <th>25%</th>\n",
       "      <td>3.000000</td>\n",
       "      <td>6.750000</td>\n",
       "      <td>18246.750000</td>\n",
       "    </tr>\n",
       "    <tr>\n",
       "      <th>50%</th>\n",
       "      <td>7.000000</td>\n",
       "      <td>15.500000</td>\n",
       "      <td>23719.000000</td>\n",
       "    </tr>\n",
       "    <tr>\n",
       "      <th>75%</th>\n",
       "      <td>11.000000</td>\n",
       "      <td>23.250000</td>\n",
       "      <td>27258.500000</td>\n",
       "    </tr>\n",
       "    <tr>\n",
       "      <th>max</th>\n",
       "      <td>25.000000</td>\n",
       "      <td>35.000000</td>\n",
       "      <td>38045.000000</td>\n",
       "    </tr>\n",
       "  </tbody>\n",
       "</table>\n",
       "</div>"
      ],
      "text/plain": [
       "              yr         yd            sl\n",
       "count  52.000000  52.000000     52.000000\n",
       "mean    7.480769  16.115385  23797.653846\n",
       "std     5.507536  10.222340   5917.289154\n",
       "min     0.000000   1.000000  15000.000000\n",
       "25%     3.000000   6.750000  18246.750000\n",
       "50%     7.000000  15.500000  23719.000000\n",
       "75%    11.000000  23.250000  27258.500000\n",
       "max    25.000000  35.000000  38045.000000"
      ]
     },
     "execution_count": 3,
     "metadata": {},
     "output_type": "execute_result"
    }
   ],
   "source": [
    "# numerical variables\n",
    "df.describe()"
   ]
  },
  {
   "cell_type": "code",
   "execution_count": 4,
   "metadata": {},
   "outputs": [
    {
     "name": "stdout",
     "output_type": "stream",
     "text": [
      "sx:  ['male' 'female']\n",
      "rk:  ['full' 'associate' 'assistant']\n",
      "dg:  ['doctorate' 'masters']\n"
     ]
    }
   ],
   "source": [
    "# categorical variables\n",
    "cat_vars = ['sx', 'rk', 'dg']\n",
    "for var in cat_vars:\n",
    "    print(f'{var}: ', df[var].unique())"
   ]
  },
  {
   "cell_type": "code",
   "execution_count": 5,
   "metadata": {},
   "outputs": [
    {
     "name": "stdout",
     "output_type": "stream",
     "text": [
      "total=52\n",
      "sx:  ['female=14 (0.27)', 'male=38 (0.73)']\n",
      "rk:  ['assistant=18 (0.35)', 'associate=14 (0.27)', 'full=20 (0.38)']\n",
      "dg:  ['doctorate=34 (0.65)', 'masters=18 (0.35)']\n"
     ]
    }
   ],
   "source": [
    "# view counts\n",
    "print(f'total={len(df)}')\n",
    "for var in cat_vars:\n",
    "    print(f'{var}: ', [f'{v}={c} ({c/len(df):.2})' for v,c in zip(*np.unique(df[var], return_counts=True))])"
   ]
  },
  {
   "cell_type": "markdown",
   "metadata": {},
   "source": [
    "## Preprocess"
   ]
  },
  {
   "cell_type": "code",
   "execution_count": 6,
   "metadata": {},
   "outputs": [
    {
     "name": "stdout",
     "output_type": "stream",
     "text": [
      "{'dg': {1: 'doctorate', 2: 'masters'},\n",
      " 'rk': {1: 'assistant', 2: 'associate', 3: 'full'},\n",
      " 'sx': {1: 'female', 2: 'male'}}\n"
     ]
    },
    {
     "data": {
      "text/html": [
       "<div>\n",
       "<style scoped>\n",
       "    .dataframe tbody tr th:only-of-type {\n",
       "        vertical-align: middle;\n",
       "    }\n",
       "\n",
       "    .dataframe tbody tr th {\n",
       "        vertical-align: top;\n",
       "    }\n",
       "\n",
       "    .dataframe thead th {\n",
       "        text-align: right;\n",
       "    }\n",
       "</style>\n",
       "<table border=\"1\" class=\"dataframe\">\n",
       "  <thead>\n",
       "    <tr style=\"text-align: right;\">\n",
       "      <th></th>\n",
       "      <th>sx</th>\n",
       "      <th>rk</th>\n",
       "      <th>yr</th>\n",
       "      <th>dg</th>\n",
       "      <th>yd</th>\n",
       "      <th>sl</th>\n",
       "    </tr>\n",
       "  </thead>\n",
       "  <tbody>\n",
       "    <tr>\n",
       "      <th>0</th>\n",
       "      <td>2</td>\n",
       "      <td>3</td>\n",
       "      <td>25</td>\n",
       "      <td>1</td>\n",
       "      <td>35</td>\n",
       "      <td>36350</td>\n",
       "    </tr>\n",
       "    <tr>\n",
       "      <th>1</th>\n",
       "      <td>2</td>\n",
       "      <td>3</td>\n",
       "      <td>13</td>\n",
       "      <td>1</td>\n",
       "      <td>22</td>\n",
       "      <td>35350</td>\n",
       "    </tr>\n",
       "    <tr>\n",
       "      <th>2</th>\n",
       "      <td>2</td>\n",
       "      <td>3</td>\n",
       "      <td>10</td>\n",
       "      <td>1</td>\n",
       "      <td>23</td>\n",
       "      <td>28200</td>\n",
       "    </tr>\n",
       "    <tr>\n",
       "      <th>3</th>\n",
       "      <td>1</td>\n",
       "      <td>3</td>\n",
       "      <td>7</td>\n",
       "      <td>1</td>\n",
       "      <td>27</td>\n",
       "      <td>26775</td>\n",
       "    </tr>\n",
       "    <tr>\n",
       "      <th>4</th>\n",
       "      <td>2</td>\n",
       "      <td>3</td>\n",
       "      <td>19</td>\n",
       "      <td>2</td>\n",
       "      <td>30</td>\n",
       "      <td>33696</td>\n",
       "    </tr>\n",
       "  </tbody>\n",
       "</table>\n",
       "</div>"
      ],
      "text/plain": [
       "   sx  rk  yr  dg  yd     sl\n",
       "0   2   3  25   1  35  36350\n",
       "1   2   3  13   1  22  35350\n",
       "2   2   3  10   1  23  28200\n",
       "3   1   3   7   1  27  26775\n",
       "4   2   3  19   2  30  33696"
      ]
     },
     "execution_count": 6,
     "metadata": {},
     "output_type": "execute_result"
    }
   ],
   "source": [
    "# Convert to category type\n",
    "cat_dict = dict()\n",
    "for var in cat_vars:\n",
    "    df[var] = df[var].astype('category')\n",
    "    cat_dict[var] = {i+1:c for i,c in enumerate(df[var].cat.categories)}\n",
    "    df[var] = df[var].cat.codes+1\n",
    "\n",
    "pprint(cat_dict)  \n",
    "df.head()"
   ]
  },
  {
   "cell_type": "code",
   "execution_count": 7,
   "metadata": {},
   "outputs": [],
   "source": [
    "x = df.drop('sl', axis=1)\n",
    "y = df['sl']"
   ]
  },
  {
   "cell_type": "markdown",
   "metadata": {},
   "source": [
    "# Decision tree"
   ]
  },
  {
   "cell_type": "code",
   "execution_count": 8,
   "metadata": {},
   "outputs": [
    {
     "data": {
      "text/plain": [
       "DecisionTreeRegressor(criterion='mse', max_depth=3, max_features=None,\n",
       "           max_leaf_nodes=None, min_impurity_decrease=0.0,\n",
       "           min_impurity_split=None, min_samples_leaf=1,\n",
       "           min_samples_split=2, min_weight_fraction_leaf=0.0,\n",
       "           presort=False, random_state=None, splitter='best')"
      ]
     },
     "execution_count": 8,
     "metadata": {},
     "output_type": "execute_result"
    }
   ],
   "source": [
    "m = DecisionTreeRegressor(max_depth=3)\n",
    "m.fit(x, y)"
   ]
  },
  {
   "cell_type": "code",
   "execution_count": 9,
   "metadata": {},
   "outputs": [
    {
     "data": {
      "text/plain": [
       "0.8878392660809423"
      ]
     },
     "execution_count": 9,
     "metadata": {},
     "output_type": "execute_result"
    }
   ],
   "source": [
    "# R^2: coefficient of determination\n",
    "m.score(x, y)"
   ]
  },
  {
   "cell_type": "markdown",
   "metadata": {},
   "source": [
    "# View the tree"
   ]
  },
  {
   "cell_type": "code",
   "execution_count": 10,
   "metadata": {},
   "outputs": [
    {
     "data": {
      "image/svg+xml": [
       "<?xml version=\"1.0\" encoding=\"UTF-8\" standalone=\"no\"?>\n",
       "<!DOCTYPE svg PUBLIC \"-//W3C//DTD SVG 1.1//EN\"\n",
       " \"http://www.w3.org/Graphics/SVG/1.1/DTD/svg11.dtd\">\n",
       "<!-- Generated by graphviz version 2.38.0 (20140413.2041)\n",
       " -->\n",
       "<!-- Title: Tree Pages: 1 -->\n",
       "<svg width=\"1084pt\" height=\"373pt\"\n",
       " viewBox=\"0.00 0.00 1083.50 373.00\" xmlns=\"http://www.w3.org/2000/svg\" xmlns:xlink=\"http://www.w3.org/1999/xlink\">\n",
       "<g id=\"graph0\" class=\"graph\" transform=\"scale(1 1) rotate(0) translate(4 369)\">\n",
       "<title>Tree</title>\n",
       "<polygon fill=\"white\" stroke=\"none\" points=\"-4,4 -4,-369 1079.5,-369 1079.5,4 -4,4\"/>\n",
       "<!-- 0 -->\n",
       "<g id=\"node1\" class=\"node\"><title>0</title>\n",
       "<polygon fill=\"#e58139\" fill-opacity=\"0.415686\" stroke=\"black\" points=\"596.5,-365 463.5,-365 463.5,-297 596.5,-297 596.5,-365\"/>\n",
       "<text text-anchor=\"middle\" x=\"530\" y=\"-349.8\" font-family=\"Times,serif\" font-size=\"14.00\">rk &lt;= 2.5</text>\n",
       "<text text-anchor=\"middle\" x=\"530\" y=\"-334.8\" font-family=\"Times,serif\" font-size=\"14.00\">mse = 34340958.803</text>\n",
       "<text text-anchor=\"middle\" x=\"530\" y=\"-319.8\" font-family=\"Times,serif\" font-size=\"14.00\">samples = 52</text>\n",
       "<text text-anchor=\"middle\" x=\"530\" y=\"-304.8\" font-family=\"Times,serif\" font-size=\"14.00\">value = 23797.654</text>\n",
       "</g>\n",
       "<!-- 1 -->\n",
       "<g id=\"node2\" class=\"node\"><title>1</title>\n",
       "<polygon fill=\"#e58139\" fill-opacity=\"0.203922\" stroke=\"black\" points=\"491.5,-261 358.5,-261 358.5,-193 491.5,-193 491.5,-261\"/>\n",
       "<text text-anchor=\"middle\" x=\"425\" y=\"-245.8\" font-family=\"Times,serif\" font-size=\"14.00\">yd &lt;= 6.5</text>\n",
       "<text text-anchor=\"middle\" x=\"425\" y=\"-230.8\" font-family=\"Times,serif\" font-size=\"14.00\">mse = 11216672.726</text>\n",
       "<text text-anchor=\"middle\" x=\"425\" y=\"-215.8\" font-family=\"Times,serif\" font-size=\"14.00\">samples = 32</text>\n",
       "<text text-anchor=\"middle\" x=\"425\" y=\"-200.8\" font-family=\"Times,serif\" font-size=\"14.00\">value = 20134.344</text>\n",
       "</g>\n",
       "<!-- 0&#45;&gt;1 -->\n",
       "<g id=\"edge1\" class=\"edge\"><title>0&#45;&gt;1</title>\n",
       "<path fill=\"none\" stroke=\"black\" d=\"M495.91,-296.884C486.557,-287.798 476.312,-277.845 466.589,-268.4\"/>\n",
       "<polygon fill=\"black\" stroke=\"black\" points=\"468.89,-265.757 459.279,-261.299 464.013,-270.778 468.89,-265.757\"/>\n",
       "<text text-anchor=\"middle\" x=\"459.641\" y=\"-282.597\" font-family=\"Times,serif\" font-size=\"14.00\">True</text>\n",
       "</g>\n",
       "<!-- 8 -->\n",
       "<g id=\"node9\" class=\"node\"><title>8</title>\n",
       "<polygon fill=\"#e58139\" fill-opacity=\"0.749020\" stroke=\"black\" points=\"702.5,-261 569.5,-261 569.5,-193 702.5,-193 702.5,-261\"/>\n",
       "<text text-anchor=\"middle\" x=\"636\" y=\"-245.8\" font-family=\"Times,serif\" font-size=\"14.00\">yr &lt;= 12.5</text>\n",
       "<text text-anchor=\"middle\" x=\"636\" y=\"-230.8\" font-family=\"Times,serif\" font-size=\"14.00\">mse = 15513278.547</text>\n",
       "<text text-anchor=\"middle\" x=\"636\" y=\"-215.8\" font-family=\"Times,serif\" font-size=\"14.00\">samples = 20</text>\n",
       "<text text-anchor=\"middle\" x=\"636\" y=\"-200.8\" font-family=\"Times,serif\" font-size=\"14.00\">value = 29658.95</text>\n",
       "</g>\n",
       "<!-- 0&#45;&gt;8 -->\n",
       "<g id=\"edge8\" class=\"edge\"><title>0&#45;&gt;8</title>\n",
       "<path fill=\"none\" stroke=\"black\" d=\"M564.415,-296.884C573.857,-287.798 584.2,-277.845 594.015,-268.4\"/>\n",
       "<polygon fill=\"black\" stroke=\"black\" points=\"596.616,-270.755 601.395,-261.299 591.762,-265.711 596.616,-270.755\"/>\n",
       "<text text-anchor=\"middle\" x=\"600.914\" y=\"-282.595\" font-family=\"Times,serif\" font-size=\"14.00\">False</text>\n",
       "</g>\n",
       "<!-- 2 -->\n",
       "<g id=\"node3\" class=\"node\"><title>2</title>\n",
       "<polygon fill=\"#e58139\" fill-opacity=\"0.015686\" stroke=\"black\" points=\"247,-157 121,-157 121,-89 247,-89 247,-157\"/>\n",
       "<text text-anchor=\"middle\" x=\"184\" y=\"-141.8\" font-family=\"Times,serif\" font-size=\"14.00\">yr &lt;= 0.5</text>\n",
       "<text text-anchor=\"middle\" x=\"184\" y=\"-126.8\" font-family=\"Times,serif\" font-size=\"14.00\">mse = 1650678.095</text>\n",
       "<text text-anchor=\"middle\" x=\"184\" y=\"-111.8\" font-family=\"Times,serif\" font-size=\"14.00\">samples = 13</text>\n",
       "<text text-anchor=\"middle\" x=\"184\" y=\"-96.8\" font-family=\"Times,serif\" font-size=\"14.00\">value = 16849.538</text>\n",
       "</g>\n",
       "<!-- 1&#45;&gt;2 -->\n",
       "<g id=\"edge2\" class=\"edge\"><title>1&#45;&gt;2</title>\n",
       "<path fill=\"none\" stroke=\"black\" d=\"M358.188,-197.723C326.618,-184.361 288.868,-168.384 256.595,-154.725\"/>\n",
       "<polygon fill=\"black\" stroke=\"black\" points=\"257.782,-151.427 247.209,-150.752 255.054,-157.873 257.782,-151.427\"/>\n",
       "</g>\n",
       "<!-- 5 -->\n",
       "<g id=\"node6\" class=\"node\"><title>5</title>\n",
       "<polygon fill=\"#e58139\" fill-opacity=\"0.333333\" stroke=\"black\" points=\"488,-157 362,-157 362,-89 488,-89 488,-157\"/>\n",
       "<text text-anchor=\"middle\" x=\"425\" y=\"-141.8\" font-family=\"Times,serif\" font-size=\"14.00\">rk &lt;= 1.5</text>\n",
       "<text text-anchor=\"middle\" x=\"425\" y=\"-126.8\" font-family=\"Times,serif\" font-size=\"14.00\">mse = 5327983.607</text>\n",
       "<text text-anchor=\"middle\" x=\"425\" y=\"-111.8\" font-family=\"Times,serif\" font-size=\"14.00\">samples = 19</text>\n",
       "<text text-anchor=\"middle\" x=\"425\" y=\"-96.8\" font-family=\"Times,serif\" font-size=\"14.00\">value = 22381.842</text>\n",
       "</g>\n",
       "<!-- 1&#45;&gt;5 -->\n",
       "<g id=\"edge5\" class=\"edge\"><title>1&#45;&gt;5</title>\n",
       "<path fill=\"none\" stroke=\"black\" d=\"M425,-192.884C425,-184.778 425,-175.982 425,-167.472\"/>\n",
       "<polygon fill=\"black\" stroke=\"black\" points=\"428.5,-167.299 425,-157.299 421.5,-167.299 428.5,-167.299\"/>\n",
       "</g>\n",
       "<!-- 3 -->\n",
       "<g id=\"node4\" class=\"node\"><title>3</title>\n",
       "<polygon fill=\"#e58139\" fill-opacity=\"0.215686\" stroke=\"black\" points=\"106,-53 7.10543e-15,-53 7.10543e-15,-0 106,-0 106,-53\"/>\n",
       "<text text-anchor=\"middle\" x=\"53\" y=\"-37.8\" font-family=\"Times,serif\" font-size=\"14.00\">mse = 0.0</text>\n",
       "<text text-anchor=\"middle\" x=\"53\" y=\"-22.8\" font-family=\"Times,serif\" font-size=\"14.00\">samples = 1</text>\n",
       "<text text-anchor=\"middle\" x=\"53\" y=\"-7.8\" font-family=\"Times,serif\" font-size=\"14.00\">value = 20300.0</text>\n",
       "</g>\n",
       "<!-- 2&#45;&gt;3 -->\n",
       "<g id=\"edge3\" class=\"edge\"><title>2&#45;&gt;3</title>\n",
       "<path fill=\"none\" stroke=\"black\" d=\"M138.183,-88.9485C124.867,-79.3431 110.355,-68.8747 97.1449,-59.345\"/>\n",
       "<polygon fill=\"black\" stroke=\"black\" points=\"98.8351,-56.2486 88.6773,-53.2367 94.7398,-61.9257 98.8351,-56.2486\"/>\n",
       "</g>\n",
       "<!-- 4 -->\n",
       "<g id=\"node5\" class=\"node\"><title>4</title>\n",
       "<polygon fill=\"none\" stroke=\"black\" points=\"243.5,-53 124.5,-53 124.5,-0 243.5,-0 243.5,-53\"/>\n",
       "<text text-anchor=\"middle\" x=\"184\" y=\"-37.8\" font-family=\"Times,serif\" font-size=\"14.00\">mse = 713415.833</text>\n",
       "<text text-anchor=\"middle\" x=\"184\" y=\"-22.8\" font-family=\"Times,serif\" font-size=\"14.00\">samples = 12</text>\n",
       "<text text-anchor=\"middle\" x=\"184\" y=\"-7.8\" font-family=\"Times,serif\" font-size=\"14.00\">value = 16562.0</text>\n",
       "</g>\n",
       "<!-- 2&#45;&gt;4 -->\n",
       "<g id=\"edge4\" class=\"edge\"><title>2&#45;&gt;4</title>\n",
       "<path fill=\"none\" stroke=\"black\" d=\"M184,-88.9485C184,-80.7153 184,-71.848 184,-63.4814\"/>\n",
       "<polygon fill=\"black\" stroke=\"black\" points=\"187.5,-63.2367 184,-53.2367 180.5,-63.2367 187.5,-63.2367\"/>\n",
       "</g>\n",
       "<!-- 6 -->\n",
       "<g id=\"node7\" class=\"node\"><title>6</title>\n",
       "<polygon fill=\"#e58139\" fill-opacity=\"0.207843\" stroke=\"black\" points=\"380.5,-53 261.5,-53 261.5,-0 380.5,-0 380.5,-53\"/>\n",
       "<text text-anchor=\"middle\" x=\"321\" y=\"-37.8\" font-family=\"Times,serif\" font-size=\"14.00\">mse = 4755591.44</text>\n",
       "<text text-anchor=\"middle\" x=\"321\" y=\"-22.8\" font-family=\"Times,serif\" font-size=\"14.00\">samples = 5</text>\n",
       "<text text-anchor=\"middle\" x=\"321\" y=\"-7.8\" font-family=\"Times,serif\" font-size=\"14.00\">value = 20158.4</text>\n",
       "</g>\n",
       "<!-- 5&#45;&gt;6 -->\n",
       "<g id=\"edge6\" class=\"edge\"><title>5&#45;&gt;6</title>\n",
       "<path fill=\"none\" stroke=\"black\" d=\"M388.626,-88.9485C378.357,-79.6175 367.192,-69.4722 356.948,-60.1641\"/>\n",
       "<polygon fill=\"black\" stroke=\"black\" points=\"359.079,-57.3713 349.324,-53.2367 354.371,-62.5521 359.079,-57.3713\"/>\n",
       "</g>\n",
       "<!-- 7 -->\n",
       "<g id=\"node8\" class=\"node\"><title>7</title>\n",
       "<polygon fill=\"#e58139\" fill-opacity=\"0.380392\" stroke=\"black\" points=\"525,-53 399,-53 399,-0 525,-0 525,-53\"/>\n",
       "<text text-anchor=\"middle\" x=\"462\" y=\"-37.8\" font-family=\"Times,serif\" font-size=\"14.00\">mse = 3136230.781</text>\n",
       "<text text-anchor=\"middle\" x=\"462\" y=\"-22.8\" font-family=\"Times,serif\" font-size=\"14.00\">samples = 14</text>\n",
       "<text text-anchor=\"middle\" x=\"462\" y=\"-7.8\" font-family=\"Times,serif\" font-size=\"14.00\">value = 23175.929</text>\n",
       "</g>\n",
       "<!-- 5&#45;&gt;7 -->\n",
       "<g id=\"edge7\" class=\"edge\"><title>5&#45;&gt;7</title>\n",
       "<path fill=\"none\" stroke=\"black\" d=\"M437.941,-88.9485C441.272,-80.4408 444.868,-71.2562 448.239,-62.6464\"/>\n",
       "<polygon fill=\"black\" stroke=\"black\" points=\"451.536,-63.8245 451.923,-53.2367 445.018,-61.2723 451.536,-63.8245\"/>\n",
       "</g>\n",
       "<!-- 9 -->\n",
       "<g id=\"node10\" class=\"node\"><title>9</title>\n",
       "<polygon fill=\"#e58139\" fill-opacity=\"0.635294\" stroke=\"black\" points=\"702.5,-157 569.5,-157 569.5,-89 702.5,-89 702.5,-157\"/>\n",
       "<text text-anchor=\"middle\" x=\"636\" y=\"-141.8\" font-family=\"Times,serif\" font-size=\"14.00\">yr &lt;= 6.5</text>\n",
       "<text text-anchor=\"middle\" x=\"636\" y=\"-126.8\" font-family=\"Times,serif\" font-size=\"14.00\">mse = 11989605.222</text>\n",
       "<text text-anchor=\"middle\" x=\"636\" y=\"-111.8\" font-family=\"Times,serif\" font-size=\"14.00\">samples = 12</text>\n",
       "<text text-anchor=\"middle\" x=\"636\" y=\"-96.8\" font-family=\"Times,serif\" font-size=\"14.00\">value = 27628.667</text>\n",
       "</g>\n",
       "<!-- 8&#45;&gt;9 -->\n",
       "<g id=\"edge9\" class=\"edge\"><title>8&#45;&gt;9</title>\n",
       "<path fill=\"none\" stroke=\"black\" d=\"M636,-192.884C636,-184.778 636,-175.982 636,-167.472\"/>\n",
       "<polygon fill=\"black\" stroke=\"black\" points=\"639.5,-167.299 636,-157.299 632.5,-167.299 639.5,-167.299\"/>\n",
       "</g>\n",
       "<!-- 12 -->\n",
       "<g id=\"node13\" class=\"node\"><title>12</title>\n",
       "<polygon fill=\"#e58139\" fill-opacity=\"0.925490\" stroke=\"black\" points=\"945,-157 819,-157 819,-89 945,-89 945,-157\"/>\n",
       "<text text-anchor=\"middle\" x=\"882\" y=\"-141.8\" font-family=\"Times,serif\" font-size=\"14.00\">yd &lt;= 21.5</text>\n",
       "<text text-anchor=\"middle\" x=\"882\" y=\"-126.8\" font-family=\"Times,serif\" font-size=\"14.00\">mse = 5341099.484</text>\n",
       "<text text-anchor=\"middle\" x=\"882\" y=\"-111.8\" font-family=\"Times,serif\" font-size=\"14.00\">samples = 8</text>\n",
       "<text text-anchor=\"middle\" x=\"882\" y=\"-96.8\" font-family=\"Times,serif\" font-size=\"14.00\">value = 32704.375</text>\n",
       "</g>\n",
       "<!-- 8&#45;&gt;12 -->\n",
       "<g id=\"edge12\" class=\"edge\"><title>8&#45;&gt;12</title>\n",
       "<path fill=\"none\" stroke=\"black\" d=\"M702.571,-198.397C735.608,-184.699 775.578,-168.126 809.4,-154.102\"/>\n",
       "<polygon fill=\"black\" stroke=\"black\" points=\"810.869,-157.282 818.766,-150.219 808.188,-150.816 810.869,-157.282\"/>\n",
       "</g>\n",
       "<!-- 10 -->\n",
       "<g id=\"node11\" class=\"node\"><title>10</title>\n",
       "<polygon fill=\"#e58139\" fill-opacity=\"0.486275\" stroke=\"black\" points=\"656.5,-53 543.5,-53 543.5,-0 656.5,-0 656.5,-53\"/>\n",
       "<text text-anchor=\"middle\" x=\"600\" y=\"-37.8\" font-family=\"Times,serif\" font-size=\"14.00\">mse = 176718.75</text>\n",
       "<text text-anchor=\"middle\" x=\"600\" y=\"-22.8\" font-family=\"Times,serif\" font-size=\"14.00\">samples = 4</text>\n",
       "<text text-anchor=\"middle\" x=\"600\" y=\"-7.8\" font-family=\"Times,serif\" font-size=\"14.00\">value = 25062.5</text>\n",
       "</g>\n",
       "<!-- 9&#45;&gt;10 -->\n",
       "<g id=\"edge10\" class=\"edge\"><title>9&#45;&gt;10</title>\n",
       "<path fill=\"none\" stroke=\"black\" d=\"M623.409,-88.9485C620.168,-80.4408 616.669,-71.2562 613.389,-62.6464\"/>\n",
       "<polygon fill=\"black\" stroke=\"black\" points=\"616.635,-61.3356 609.804,-53.2367 610.094,-63.8276 616.635,-61.3356\"/>\n",
       "</g>\n",
       "<!-- 11 -->\n",
       "<g id=\"node12\" class=\"node\"><title>11</title>\n",
       "<polygon fill=\"#e58139\" fill-opacity=\"0.705882\" stroke=\"black\" points=\"807.5,-53 674.5,-53 674.5,-0 807.5,-0 807.5,-53\"/>\n",
       "<text text-anchor=\"middle\" x=\"741\" y=\"-37.8\" font-family=\"Times,serif\" font-size=\"14.00\">mse = 12957139.938</text>\n",
       "<text text-anchor=\"middle\" x=\"741\" y=\"-22.8\" font-family=\"Times,serif\" font-size=\"14.00\">samples = 8</text>\n",
       "<text text-anchor=\"middle\" x=\"741\" y=\"-7.8\" font-family=\"Times,serif\" font-size=\"14.00\">value = 28911.75</text>\n",
       "</g>\n",
       "<!-- 9&#45;&gt;11 -->\n",
       "<g id=\"edge11\" class=\"edge\"><title>9&#45;&gt;11</title>\n",
       "<path fill=\"none\" stroke=\"black\" d=\"M672.724,-88.9485C683.092,-79.6175 694.364,-69.4722 704.707,-60.1641\"/>\n",
       "<polygon fill=\"black\" stroke=\"black\" points=\"707.312,-62.5279 712.404,-53.2367 702.629,-57.3248 707.312,-62.5279\"/>\n",
       "</g>\n",
       "<!-- 13 -->\n",
       "<g id=\"node14\" class=\"node\"><title>13</title>\n",
       "<polygon fill=\"#e58139\" fill-opacity=\"0.800000\" stroke=\"black\" points=\"938.5,-53 825.5,-53 825.5,-0 938.5,-0 938.5,-53\"/>\n",
       "<text text-anchor=\"middle\" x=\"882\" y=\"-37.8\" font-family=\"Times,serif\" font-size=\"14.00\">mse = 2099342.0</text>\n",
       "<text text-anchor=\"middle\" x=\"882\" y=\"-22.8\" font-family=\"Times,serif\" font-size=\"14.00\">samples = 3</text>\n",
       "<text text-anchor=\"middle\" x=\"882\" y=\"-7.8\" font-family=\"Times,serif\" font-size=\"14.00\">value = 30513.0</text>\n",
       "</g>\n",
       "<!-- 12&#45;&gt;13 -->\n",
       "<g id=\"edge13\" class=\"edge\"><title>12&#45;&gt;13</title>\n",
       "<path fill=\"none\" stroke=\"black\" d=\"M882,-88.9485C882,-80.7153 882,-71.848 882,-63.4814\"/>\n",
       "<polygon fill=\"black\" stroke=\"black\" points=\"885.5,-63.2367 882,-53.2367 878.5,-63.2367 885.5,-63.2367\"/>\n",
       "</g>\n",
       "<!-- 14 -->\n",
       "<g id=\"node15\" class=\"node\"><title>14</title>\n",
       "<polygon fill=\"#e58139\" stroke=\"black\" points=\"1075.5,-53 956.5,-53 956.5,-0 1075.5,-0 1075.5,-53\"/>\n",
       "<text text-anchor=\"middle\" x=\"1016\" y=\"-37.8\" font-family=\"Times,serif\" font-size=\"14.00\">mse = 2676114.56</text>\n",
       "<text text-anchor=\"middle\" x=\"1016\" y=\"-22.8\" font-family=\"Times,serif\" font-size=\"14.00\">samples = 5</text>\n",
       "<text text-anchor=\"middle\" x=\"1016\" y=\"-7.8\" font-family=\"Times,serif\" font-size=\"14.00\">value = 34019.2</text>\n",
       "</g>\n",
       "<!-- 12&#45;&gt;14 -->\n",
       "<g id=\"edge14\" class=\"edge\"><title>12&#45;&gt;14</title>\n",
       "<path fill=\"none\" stroke=\"black\" d=\"M928.867,-88.9485C942.617,-79.2516 957.614,-68.6752 971.23,-59.073\"/>\n",
       "<polygon fill=\"black\" stroke=\"black\" points=\"973.351,-61.8603 979.506,-53.2367 969.316,-56.1397 973.351,-61.8603\"/>\n",
       "</g>\n",
       "</g>\n",
       "</svg>\n"
      ],
      "text/plain": [
       "<graphviz.files.Source at 0x7f785a4f71d0>"
      ]
     },
     "execution_count": 10,
     "metadata": {},
     "output_type": "execute_result"
    }
   ],
   "source": [
    "draw_tree(m, x)"
   ]
  },
  {
   "cell_type": "markdown",
   "metadata": {},
   "source": [
    "# Using dummies"
   ]
  },
  {
   "cell_type": "code",
   "execution_count": 11,
   "metadata": {},
   "outputs": [
    {
     "data": {
      "text/html": [
       "<div>\n",
       "<style scoped>\n",
       "    .dataframe tbody tr th:only-of-type {\n",
       "        vertical-align: middle;\n",
       "    }\n",
       "\n",
       "    .dataframe tbody tr th {\n",
       "        vertical-align: top;\n",
       "    }\n",
       "\n",
       "    .dataframe thead th {\n",
       "        text-align: right;\n",
       "    }\n",
       "</style>\n",
       "<table border=\"1\" class=\"dataframe\">\n",
       "  <thead>\n",
       "    <tr style=\"text-align: right;\">\n",
       "      <th></th>\n",
       "      <th>yr</th>\n",
       "      <th>yd</th>\n",
       "      <th>sl</th>\n",
       "      <th>sx_female</th>\n",
       "      <th>sx_male</th>\n",
       "      <th>rk_assistant</th>\n",
       "      <th>rk_associate</th>\n",
       "      <th>rk_full</th>\n",
       "      <th>dg_doctorate</th>\n",
       "      <th>dg_masters</th>\n",
       "    </tr>\n",
       "  </thead>\n",
       "  <tbody>\n",
       "    <tr>\n",
       "      <th>0</th>\n",
       "      <td>25</td>\n",
       "      <td>35</td>\n",
       "      <td>36350</td>\n",
       "      <td>0</td>\n",
       "      <td>1</td>\n",
       "      <td>0</td>\n",
       "      <td>0</td>\n",
       "      <td>1</td>\n",
       "      <td>1</td>\n",
       "      <td>0</td>\n",
       "    </tr>\n",
       "    <tr>\n",
       "      <th>1</th>\n",
       "      <td>13</td>\n",
       "      <td>22</td>\n",
       "      <td>35350</td>\n",
       "      <td>0</td>\n",
       "      <td>1</td>\n",
       "      <td>0</td>\n",
       "      <td>0</td>\n",
       "      <td>1</td>\n",
       "      <td>1</td>\n",
       "      <td>0</td>\n",
       "    </tr>\n",
       "    <tr>\n",
       "      <th>2</th>\n",
       "      <td>10</td>\n",
       "      <td>23</td>\n",
       "      <td>28200</td>\n",
       "      <td>0</td>\n",
       "      <td>1</td>\n",
       "      <td>0</td>\n",
       "      <td>0</td>\n",
       "      <td>1</td>\n",
       "      <td>1</td>\n",
       "      <td>0</td>\n",
       "    </tr>\n",
       "    <tr>\n",
       "      <th>3</th>\n",
       "      <td>7</td>\n",
       "      <td>27</td>\n",
       "      <td>26775</td>\n",
       "      <td>1</td>\n",
       "      <td>0</td>\n",
       "      <td>0</td>\n",
       "      <td>0</td>\n",
       "      <td>1</td>\n",
       "      <td>1</td>\n",
       "      <td>0</td>\n",
       "    </tr>\n",
       "    <tr>\n",
       "      <th>4</th>\n",
       "      <td>19</td>\n",
       "      <td>30</td>\n",
       "      <td>33696</td>\n",
       "      <td>0</td>\n",
       "      <td>1</td>\n",
       "      <td>0</td>\n",
       "      <td>0</td>\n",
       "      <td>1</td>\n",
       "      <td>0</td>\n",
       "      <td>1</td>\n",
       "    </tr>\n",
       "  </tbody>\n",
       "</table>\n",
       "</div>"
      ],
      "text/plain": [
       "   yr  yd     sl  sx_female  sx_male  rk_assistant  rk_associate  rk_full  \\\n",
       "0  25  35  36350          0        1             0             0        1   \n",
       "1  13  22  35350          0        1             0             0        1   \n",
       "2  10  23  28200          0        1             0             0        1   \n",
       "3   7  27  26775          1        0             0             0        1   \n",
       "4  19  30  33696          0        1             0             0        1   \n",
       "\n",
       "   dg_doctorate  dg_masters  \n",
       "0             1           0  \n",
       "1             1           0  \n",
       "2             1           0  \n",
       "3             1           0  \n",
       "4             0           1  "
      ]
     },
     "execution_count": 11,
     "metadata": {},
     "output_type": "execute_result"
    }
   ],
   "source": [
    "df = pd.read_csv('data/salaries_data.dat', sep='\\s+')\n",
    "df = pd.get_dummies(df)\n",
    "df.head()"
   ]
  },
  {
   "cell_type": "code",
   "execution_count": 12,
   "metadata": {},
   "outputs": [
    {
     "data": {
      "text/plain": [
       "0.8878392660809423"
      ]
     },
     "execution_count": 12,
     "metadata": {},
     "output_type": "execute_result"
    }
   ],
   "source": [
    "x = df.drop('sl', axis=1)\n",
    "y = df['sl']\n",
    "m = DecisionTreeRegressor(max_depth=3)\n",
    "m.fit(x, y)\n",
    "m.score(x, y)"
   ]
  },
  {
   "cell_type": "code",
   "execution_count": 13,
   "metadata": {},
   "outputs": [
    {
     "data": {
      "image/svg+xml": [
       "<?xml version=\"1.0\" encoding=\"UTF-8\" standalone=\"no\"?>\n",
       "<!DOCTYPE svg PUBLIC \"-//W3C//DTD SVG 1.1//EN\"\n",
       " \"http://www.w3.org/Graphics/SVG/1.1/DTD/svg11.dtd\">\n",
       "<!-- Generated by graphviz version 2.38.0 (20140413.2041)\n",
       " -->\n",
       "<!-- Title: Tree Pages: 1 -->\n",
       "<svg width=\"1084pt\" height=\"373pt\"\n",
       " viewBox=\"0.00 0.00 1083.50 373.00\" xmlns=\"http://www.w3.org/2000/svg\" xmlns:xlink=\"http://www.w3.org/1999/xlink\">\n",
       "<g id=\"graph0\" class=\"graph\" transform=\"scale(1 1) rotate(0) translate(4 369)\">\n",
       "<title>Tree</title>\n",
       "<polygon fill=\"white\" stroke=\"none\" points=\"-4,4 -4,-369 1079.5,-369 1079.5,4 -4,4\"/>\n",
       "<!-- 0 -->\n",
       "<g id=\"node1\" class=\"node\"><title>0</title>\n",
       "<polygon fill=\"#e58139\" fill-opacity=\"0.415686\" stroke=\"black\" points=\"596.5,-365 463.5,-365 463.5,-297 596.5,-297 596.5,-365\"/>\n",
       "<text text-anchor=\"middle\" x=\"530\" y=\"-349.8\" font-family=\"Times,serif\" font-size=\"14.00\">rk_full &lt;= 0.5</text>\n",
       "<text text-anchor=\"middle\" x=\"530\" y=\"-334.8\" font-family=\"Times,serif\" font-size=\"14.00\">mse = 34340958.803</text>\n",
       "<text text-anchor=\"middle\" x=\"530\" y=\"-319.8\" font-family=\"Times,serif\" font-size=\"14.00\">samples = 52</text>\n",
       "<text text-anchor=\"middle\" x=\"530\" y=\"-304.8\" font-family=\"Times,serif\" font-size=\"14.00\">value = 23797.654</text>\n",
       "</g>\n",
       "<!-- 1 -->\n",
       "<g id=\"node2\" class=\"node\"><title>1</title>\n",
       "<polygon fill=\"#e58139\" fill-opacity=\"0.203922\" stroke=\"black\" points=\"491.5,-261 358.5,-261 358.5,-193 491.5,-193 491.5,-261\"/>\n",
       "<text text-anchor=\"middle\" x=\"425\" y=\"-245.8\" font-family=\"Times,serif\" font-size=\"14.00\">yd &lt;= 6.5</text>\n",
       "<text text-anchor=\"middle\" x=\"425\" y=\"-230.8\" font-family=\"Times,serif\" font-size=\"14.00\">mse = 11216672.726</text>\n",
       "<text text-anchor=\"middle\" x=\"425\" y=\"-215.8\" font-family=\"Times,serif\" font-size=\"14.00\">samples = 32</text>\n",
       "<text text-anchor=\"middle\" x=\"425\" y=\"-200.8\" font-family=\"Times,serif\" font-size=\"14.00\">value = 20134.344</text>\n",
       "</g>\n",
       "<!-- 0&#45;&gt;1 -->\n",
       "<g id=\"edge1\" class=\"edge\"><title>0&#45;&gt;1</title>\n",
       "<path fill=\"none\" stroke=\"black\" d=\"M495.91,-296.884C486.557,-287.798 476.312,-277.845 466.589,-268.4\"/>\n",
       "<polygon fill=\"black\" stroke=\"black\" points=\"468.89,-265.757 459.279,-261.299 464.013,-270.778 468.89,-265.757\"/>\n",
       "<text text-anchor=\"middle\" x=\"459.641\" y=\"-282.597\" font-family=\"Times,serif\" font-size=\"14.00\">True</text>\n",
       "</g>\n",
       "<!-- 8 -->\n",
       "<g id=\"node9\" class=\"node\"><title>8</title>\n",
       "<polygon fill=\"#e58139\" fill-opacity=\"0.749020\" stroke=\"black\" points=\"702.5,-261 569.5,-261 569.5,-193 702.5,-193 702.5,-261\"/>\n",
       "<text text-anchor=\"middle\" x=\"636\" y=\"-245.8\" font-family=\"Times,serif\" font-size=\"14.00\">yr &lt;= 12.5</text>\n",
       "<text text-anchor=\"middle\" x=\"636\" y=\"-230.8\" font-family=\"Times,serif\" font-size=\"14.00\">mse = 15513278.547</text>\n",
       "<text text-anchor=\"middle\" x=\"636\" y=\"-215.8\" font-family=\"Times,serif\" font-size=\"14.00\">samples = 20</text>\n",
       "<text text-anchor=\"middle\" x=\"636\" y=\"-200.8\" font-family=\"Times,serif\" font-size=\"14.00\">value = 29658.95</text>\n",
       "</g>\n",
       "<!-- 0&#45;&gt;8 -->\n",
       "<g id=\"edge8\" class=\"edge\"><title>0&#45;&gt;8</title>\n",
       "<path fill=\"none\" stroke=\"black\" d=\"M564.415,-296.884C573.857,-287.798 584.2,-277.845 594.015,-268.4\"/>\n",
       "<polygon fill=\"black\" stroke=\"black\" points=\"596.616,-270.755 601.395,-261.299 591.762,-265.711 596.616,-270.755\"/>\n",
       "<text text-anchor=\"middle\" x=\"600.914\" y=\"-282.595\" font-family=\"Times,serif\" font-size=\"14.00\">False</text>\n",
       "</g>\n",
       "<!-- 2 -->\n",
       "<g id=\"node3\" class=\"node\"><title>2</title>\n",
       "<polygon fill=\"#e58139\" fill-opacity=\"0.015686\" stroke=\"black\" points=\"247,-157 121,-157 121,-89 247,-89 247,-157\"/>\n",
       "<text text-anchor=\"middle\" x=\"184\" y=\"-141.8\" font-family=\"Times,serif\" font-size=\"14.00\">yr &lt;= 0.5</text>\n",
       "<text text-anchor=\"middle\" x=\"184\" y=\"-126.8\" font-family=\"Times,serif\" font-size=\"14.00\">mse = 1650678.095</text>\n",
       "<text text-anchor=\"middle\" x=\"184\" y=\"-111.8\" font-family=\"Times,serif\" font-size=\"14.00\">samples = 13</text>\n",
       "<text text-anchor=\"middle\" x=\"184\" y=\"-96.8\" font-family=\"Times,serif\" font-size=\"14.00\">value = 16849.538</text>\n",
       "</g>\n",
       "<!-- 1&#45;&gt;2 -->\n",
       "<g id=\"edge2\" class=\"edge\"><title>1&#45;&gt;2</title>\n",
       "<path fill=\"none\" stroke=\"black\" d=\"M358.188,-197.723C326.618,-184.361 288.868,-168.384 256.595,-154.725\"/>\n",
       "<polygon fill=\"black\" stroke=\"black\" points=\"257.782,-151.427 247.209,-150.752 255.054,-157.873 257.782,-151.427\"/>\n",
       "</g>\n",
       "<!-- 5 -->\n",
       "<g id=\"node6\" class=\"node\"><title>5</title>\n",
       "<polygon fill=\"#e58139\" fill-opacity=\"0.333333\" stroke=\"black\" points=\"488,-157 362,-157 362,-89 488,-89 488,-157\"/>\n",
       "<text text-anchor=\"middle\" x=\"425\" y=\"-141.8\" font-family=\"Times,serif\" font-size=\"14.00\">rk_associate &lt;= 0.5</text>\n",
       "<text text-anchor=\"middle\" x=\"425\" y=\"-126.8\" font-family=\"Times,serif\" font-size=\"14.00\">mse = 5327983.607</text>\n",
       "<text text-anchor=\"middle\" x=\"425\" y=\"-111.8\" font-family=\"Times,serif\" font-size=\"14.00\">samples = 19</text>\n",
       "<text text-anchor=\"middle\" x=\"425\" y=\"-96.8\" font-family=\"Times,serif\" font-size=\"14.00\">value = 22381.842</text>\n",
       "</g>\n",
       "<!-- 1&#45;&gt;5 -->\n",
       "<g id=\"edge5\" class=\"edge\"><title>1&#45;&gt;5</title>\n",
       "<path fill=\"none\" stroke=\"black\" d=\"M425,-192.884C425,-184.778 425,-175.982 425,-167.472\"/>\n",
       "<polygon fill=\"black\" stroke=\"black\" points=\"428.5,-167.299 425,-157.299 421.5,-167.299 428.5,-167.299\"/>\n",
       "</g>\n",
       "<!-- 3 -->\n",
       "<g id=\"node4\" class=\"node\"><title>3</title>\n",
       "<polygon fill=\"#e58139\" fill-opacity=\"0.215686\" stroke=\"black\" points=\"106,-53 7.10543e-15,-53 7.10543e-15,-0 106,-0 106,-53\"/>\n",
       "<text text-anchor=\"middle\" x=\"53\" y=\"-37.8\" font-family=\"Times,serif\" font-size=\"14.00\">mse = 0.0</text>\n",
       "<text text-anchor=\"middle\" x=\"53\" y=\"-22.8\" font-family=\"Times,serif\" font-size=\"14.00\">samples = 1</text>\n",
       "<text text-anchor=\"middle\" x=\"53\" y=\"-7.8\" font-family=\"Times,serif\" font-size=\"14.00\">value = 20300.0</text>\n",
       "</g>\n",
       "<!-- 2&#45;&gt;3 -->\n",
       "<g id=\"edge3\" class=\"edge\"><title>2&#45;&gt;3</title>\n",
       "<path fill=\"none\" stroke=\"black\" d=\"M138.183,-88.9485C124.867,-79.3431 110.355,-68.8747 97.1449,-59.345\"/>\n",
       "<polygon fill=\"black\" stroke=\"black\" points=\"98.8351,-56.2486 88.6773,-53.2367 94.7398,-61.9257 98.8351,-56.2486\"/>\n",
       "</g>\n",
       "<!-- 4 -->\n",
       "<g id=\"node5\" class=\"node\"><title>4</title>\n",
       "<polygon fill=\"none\" stroke=\"black\" points=\"243.5,-53 124.5,-53 124.5,-0 243.5,-0 243.5,-53\"/>\n",
       "<text text-anchor=\"middle\" x=\"184\" y=\"-37.8\" font-family=\"Times,serif\" font-size=\"14.00\">mse = 713415.833</text>\n",
       "<text text-anchor=\"middle\" x=\"184\" y=\"-22.8\" font-family=\"Times,serif\" font-size=\"14.00\">samples = 12</text>\n",
       "<text text-anchor=\"middle\" x=\"184\" y=\"-7.8\" font-family=\"Times,serif\" font-size=\"14.00\">value = 16562.0</text>\n",
       "</g>\n",
       "<!-- 2&#45;&gt;4 -->\n",
       "<g id=\"edge4\" class=\"edge\"><title>2&#45;&gt;4</title>\n",
       "<path fill=\"none\" stroke=\"black\" d=\"M184,-88.9485C184,-80.7153 184,-71.848 184,-63.4814\"/>\n",
       "<polygon fill=\"black\" stroke=\"black\" points=\"187.5,-63.2367 184,-53.2367 180.5,-63.2367 187.5,-63.2367\"/>\n",
       "</g>\n",
       "<!-- 6 -->\n",
       "<g id=\"node7\" class=\"node\"><title>6</title>\n",
       "<polygon fill=\"#e58139\" fill-opacity=\"0.207843\" stroke=\"black\" points=\"380.5,-53 261.5,-53 261.5,-0 380.5,-0 380.5,-53\"/>\n",
       "<text text-anchor=\"middle\" x=\"321\" y=\"-37.8\" font-family=\"Times,serif\" font-size=\"14.00\">mse = 4755591.44</text>\n",
       "<text text-anchor=\"middle\" x=\"321\" y=\"-22.8\" font-family=\"Times,serif\" font-size=\"14.00\">samples = 5</text>\n",
       "<text text-anchor=\"middle\" x=\"321\" y=\"-7.8\" font-family=\"Times,serif\" font-size=\"14.00\">value = 20158.4</text>\n",
       "</g>\n",
       "<!-- 5&#45;&gt;6 -->\n",
       "<g id=\"edge6\" class=\"edge\"><title>5&#45;&gt;6</title>\n",
       "<path fill=\"none\" stroke=\"black\" d=\"M388.626,-88.9485C378.357,-79.6175 367.192,-69.4722 356.948,-60.1641\"/>\n",
       "<polygon fill=\"black\" stroke=\"black\" points=\"359.079,-57.3713 349.324,-53.2367 354.371,-62.5521 359.079,-57.3713\"/>\n",
       "</g>\n",
       "<!-- 7 -->\n",
       "<g id=\"node8\" class=\"node\"><title>7</title>\n",
       "<polygon fill=\"#e58139\" fill-opacity=\"0.380392\" stroke=\"black\" points=\"525,-53 399,-53 399,-0 525,-0 525,-53\"/>\n",
       "<text text-anchor=\"middle\" x=\"462\" y=\"-37.8\" font-family=\"Times,serif\" font-size=\"14.00\">mse = 3136230.781</text>\n",
       "<text text-anchor=\"middle\" x=\"462\" y=\"-22.8\" font-family=\"Times,serif\" font-size=\"14.00\">samples = 14</text>\n",
       "<text text-anchor=\"middle\" x=\"462\" y=\"-7.8\" font-family=\"Times,serif\" font-size=\"14.00\">value = 23175.929</text>\n",
       "</g>\n",
       "<!-- 5&#45;&gt;7 -->\n",
       "<g id=\"edge7\" class=\"edge\"><title>5&#45;&gt;7</title>\n",
       "<path fill=\"none\" stroke=\"black\" d=\"M437.941,-88.9485C441.272,-80.4408 444.868,-71.2562 448.239,-62.6464\"/>\n",
       "<polygon fill=\"black\" stroke=\"black\" points=\"451.536,-63.8245 451.923,-53.2367 445.018,-61.2723 451.536,-63.8245\"/>\n",
       "</g>\n",
       "<!-- 9 -->\n",
       "<g id=\"node10\" class=\"node\"><title>9</title>\n",
       "<polygon fill=\"#e58139\" fill-opacity=\"0.635294\" stroke=\"black\" points=\"702.5,-157 569.5,-157 569.5,-89 702.5,-89 702.5,-157\"/>\n",
       "<text text-anchor=\"middle\" x=\"636\" y=\"-141.8\" font-family=\"Times,serif\" font-size=\"14.00\">yr &lt;= 6.5</text>\n",
       "<text text-anchor=\"middle\" x=\"636\" y=\"-126.8\" font-family=\"Times,serif\" font-size=\"14.00\">mse = 11989605.222</text>\n",
       "<text text-anchor=\"middle\" x=\"636\" y=\"-111.8\" font-family=\"Times,serif\" font-size=\"14.00\">samples = 12</text>\n",
       "<text text-anchor=\"middle\" x=\"636\" y=\"-96.8\" font-family=\"Times,serif\" font-size=\"14.00\">value = 27628.667</text>\n",
       "</g>\n",
       "<!-- 8&#45;&gt;9 -->\n",
       "<g id=\"edge9\" class=\"edge\"><title>8&#45;&gt;9</title>\n",
       "<path fill=\"none\" stroke=\"black\" d=\"M636,-192.884C636,-184.778 636,-175.982 636,-167.472\"/>\n",
       "<polygon fill=\"black\" stroke=\"black\" points=\"639.5,-167.299 636,-157.299 632.5,-167.299 639.5,-167.299\"/>\n",
       "</g>\n",
       "<!-- 12 -->\n",
       "<g id=\"node13\" class=\"node\"><title>12</title>\n",
       "<polygon fill=\"#e58139\" fill-opacity=\"0.925490\" stroke=\"black\" points=\"945,-157 819,-157 819,-89 945,-89 945,-157\"/>\n",
       "<text text-anchor=\"middle\" x=\"882\" y=\"-141.8\" font-family=\"Times,serif\" font-size=\"14.00\">yd &lt;= 21.5</text>\n",
       "<text text-anchor=\"middle\" x=\"882\" y=\"-126.8\" font-family=\"Times,serif\" font-size=\"14.00\">mse = 5341099.484</text>\n",
       "<text text-anchor=\"middle\" x=\"882\" y=\"-111.8\" font-family=\"Times,serif\" font-size=\"14.00\">samples = 8</text>\n",
       "<text text-anchor=\"middle\" x=\"882\" y=\"-96.8\" font-family=\"Times,serif\" font-size=\"14.00\">value = 32704.375</text>\n",
       "</g>\n",
       "<!-- 8&#45;&gt;12 -->\n",
       "<g id=\"edge12\" class=\"edge\"><title>8&#45;&gt;12</title>\n",
       "<path fill=\"none\" stroke=\"black\" d=\"M702.571,-198.397C735.608,-184.699 775.578,-168.126 809.4,-154.102\"/>\n",
       "<polygon fill=\"black\" stroke=\"black\" points=\"810.869,-157.282 818.766,-150.219 808.188,-150.816 810.869,-157.282\"/>\n",
       "</g>\n",
       "<!-- 10 -->\n",
       "<g id=\"node11\" class=\"node\"><title>10</title>\n",
       "<polygon fill=\"#e58139\" fill-opacity=\"0.486275\" stroke=\"black\" points=\"656.5,-53 543.5,-53 543.5,-0 656.5,-0 656.5,-53\"/>\n",
       "<text text-anchor=\"middle\" x=\"600\" y=\"-37.8\" font-family=\"Times,serif\" font-size=\"14.00\">mse = 176718.75</text>\n",
       "<text text-anchor=\"middle\" x=\"600\" y=\"-22.8\" font-family=\"Times,serif\" font-size=\"14.00\">samples = 4</text>\n",
       "<text text-anchor=\"middle\" x=\"600\" y=\"-7.8\" font-family=\"Times,serif\" font-size=\"14.00\">value = 25062.5</text>\n",
       "</g>\n",
       "<!-- 9&#45;&gt;10 -->\n",
       "<g id=\"edge10\" class=\"edge\"><title>9&#45;&gt;10</title>\n",
       "<path fill=\"none\" stroke=\"black\" d=\"M623.409,-88.9485C620.168,-80.4408 616.669,-71.2562 613.389,-62.6464\"/>\n",
       "<polygon fill=\"black\" stroke=\"black\" points=\"616.635,-61.3356 609.804,-53.2367 610.094,-63.8276 616.635,-61.3356\"/>\n",
       "</g>\n",
       "<!-- 11 -->\n",
       "<g id=\"node12\" class=\"node\"><title>11</title>\n",
       "<polygon fill=\"#e58139\" fill-opacity=\"0.705882\" stroke=\"black\" points=\"807.5,-53 674.5,-53 674.5,-0 807.5,-0 807.5,-53\"/>\n",
       "<text text-anchor=\"middle\" x=\"741\" y=\"-37.8\" font-family=\"Times,serif\" font-size=\"14.00\">mse = 12957139.938</text>\n",
       "<text text-anchor=\"middle\" x=\"741\" y=\"-22.8\" font-family=\"Times,serif\" font-size=\"14.00\">samples = 8</text>\n",
       "<text text-anchor=\"middle\" x=\"741\" y=\"-7.8\" font-family=\"Times,serif\" font-size=\"14.00\">value = 28911.75</text>\n",
       "</g>\n",
       "<!-- 9&#45;&gt;11 -->\n",
       "<g id=\"edge11\" class=\"edge\"><title>9&#45;&gt;11</title>\n",
       "<path fill=\"none\" stroke=\"black\" d=\"M672.724,-88.9485C683.092,-79.6175 694.364,-69.4722 704.707,-60.1641\"/>\n",
       "<polygon fill=\"black\" stroke=\"black\" points=\"707.312,-62.5279 712.404,-53.2367 702.629,-57.3248 707.312,-62.5279\"/>\n",
       "</g>\n",
       "<!-- 13 -->\n",
       "<g id=\"node14\" class=\"node\"><title>13</title>\n",
       "<polygon fill=\"#e58139\" fill-opacity=\"0.800000\" stroke=\"black\" points=\"938.5,-53 825.5,-53 825.5,-0 938.5,-0 938.5,-53\"/>\n",
       "<text text-anchor=\"middle\" x=\"882\" y=\"-37.8\" font-family=\"Times,serif\" font-size=\"14.00\">mse = 2099342.0</text>\n",
       "<text text-anchor=\"middle\" x=\"882\" y=\"-22.8\" font-family=\"Times,serif\" font-size=\"14.00\">samples = 3</text>\n",
       "<text text-anchor=\"middle\" x=\"882\" y=\"-7.8\" font-family=\"Times,serif\" font-size=\"14.00\">value = 30513.0</text>\n",
       "</g>\n",
       "<!-- 12&#45;&gt;13 -->\n",
       "<g id=\"edge13\" class=\"edge\"><title>12&#45;&gt;13</title>\n",
       "<path fill=\"none\" stroke=\"black\" d=\"M882,-88.9485C882,-80.7153 882,-71.848 882,-63.4814\"/>\n",
       "<polygon fill=\"black\" stroke=\"black\" points=\"885.5,-63.2367 882,-53.2367 878.5,-63.2367 885.5,-63.2367\"/>\n",
       "</g>\n",
       "<!-- 14 -->\n",
       "<g id=\"node15\" class=\"node\"><title>14</title>\n",
       "<polygon fill=\"#e58139\" stroke=\"black\" points=\"1075.5,-53 956.5,-53 956.5,-0 1075.5,-0 1075.5,-53\"/>\n",
       "<text text-anchor=\"middle\" x=\"1016\" y=\"-37.8\" font-family=\"Times,serif\" font-size=\"14.00\">mse = 2676114.56</text>\n",
       "<text text-anchor=\"middle\" x=\"1016\" y=\"-22.8\" font-family=\"Times,serif\" font-size=\"14.00\">samples = 5</text>\n",
       "<text text-anchor=\"middle\" x=\"1016\" y=\"-7.8\" font-family=\"Times,serif\" font-size=\"14.00\">value = 34019.2</text>\n",
       "</g>\n",
       "<!-- 12&#45;&gt;14 -->\n",
       "<g id=\"edge14\" class=\"edge\"><title>12&#45;&gt;14</title>\n",
       "<path fill=\"none\" stroke=\"black\" d=\"M928.867,-88.9485C942.617,-79.2516 957.614,-68.6752 971.23,-59.073\"/>\n",
       "<polygon fill=\"black\" stroke=\"black\" points=\"973.351,-61.8603 979.506,-53.2367 969.316,-56.1397 973.351,-61.8603\"/>\n",
       "</g>\n",
       "</g>\n",
       "</svg>\n"
      ],
      "text/plain": [
       "<graphviz.files.Source at 0x7f785a4f74e0>"
      ]
     },
     "execution_count": 13,
     "metadata": {},
     "output_type": "execute_result"
    }
   ],
   "source": [
    "draw_tree(m, x)"
   ]
  },
  {
   "cell_type": "markdown",
   "metadata": {},
   "source": [
    "# Feature importance"
   ]
  },
  {
   "cell_type": "code",
   "execution_count": 14,
   "metadata": {},
   "outputs": [
    {
     "data": {
      "text/plain": [
       "DecisionTreeRegressor(criterion='mse', max_depth=None, max_features=None,\n",
       "           max_leaf_nodes=None, min_impurity_decrease=0.0,\n",
       "           min_impurity_split=None, min_samples_leaf=1,\n",
       "           min_samples_split=2, min_weight_fraction_leaf=0.0,\n",
       "           presort=False, random_state=None, splitter='best')"
      ]
     },
     "execution_count": 14,
     "metadata": {},
     "output_type": "execute_result"
    }
   ],
   "source": [
    "m = DecisionTreeRegressor()\n",
    "m.fit(x, y)"
   ]
  },
  {
   "cell_type": "code",
   "execution_count": 15,
   "metadata": {},
   "outputs": [
    {
     "data": {
      "text/html": [
       "<div>\n",
       "<style scoped>\n",
       "    .dataframe tbody tr th:only-of-type {\n",
       "        vertical-align: middle;\n",
       "    }\n",
       "\n",
       "    .dataframe tbody tr th {\n",
       "        vertical-align: top;\n",
       "    }\n",
       "\n",
       "    .dataframe thead th {\n",
       "        text-align: right;\n",
       "    }\n",
       "</style>\n",
       "<table border=\"1\" class=\"dataframe\">\n",
       "  <thead>\n",
       "    <tr style=\"text-align: right;\">\n",
       "      <th></th>\n",
       "      <th>cols</th>\n",
       "      <th>imp</th>\n",
       "    </tr>\n",
       "  </thead>\n",
       "  <tbody>\n",
       "    <tr>\n",
       "      <th>6</th>\n",
       "      <td>rk_full</td>\n",
       "      <td>0.625795</td>\n",
       "    </tr>\n",
       "    <tr>\n",
       "      <th>1</th>\n",
       "      <td>yd</td>\n",
       "      <td>0.198328</td>\n",
       "    </tr>\n",
       "    <tr>\n",
       "      <th>0</th>\n",
       "      <td>yr</td>\n",
       "      <td>0.130797</td>\n",
       "    </tr>\n",
       "    <tr>\n",
       "      <th>4</th>\n",
       "      <td>rk_assistant</td>\n",
       "      <td>0.018802</td>\n",
       "    </tr>\n",
       "    <tr>\n",
       "      <th>3</th>\n",
       "      <td>sx_male</td>\n",
       "      <td>0.018347</td>\n",
       "    </tr>\n",
       "    <tr>\n",
       "      <th>8</th>\n",
       "      <td>dg_masters</td>\n",
       "      <td>0.006288</td>\n",
       "    </tr>\n",
       "    <tr>\n",
       "      <th>7</th>\n",
       "      <td>dg_doctorate</td>\n",
       "      <td>0.001225</td>\n",
       "    </tr>\n",
       "    <tr>\n",
       "      <th>2</th>\n",
       "      <td>sx_female</td>\n",
       "      <td>0.000418</td>\n",
       "    </tr>\n",
       "    <tr>\n",
       "      <th>5</th>\n",
       "      <td>rk_associate</td>\n",
       "      <td>0.000000</td>\n",
       "    </tr>\n",
       "  </tbody>\n",
       "</table>\n",
       "</div>"
      ],
      "text/plain": [
       "           cols       imp\n",
       "6       rk_full  0.625795\n",
       "1            yd  0.198328\n",
       "0            yr  0.130797\n",
       "4  rk_assistant  0.018802\n",
       "3       sx_male  0.018347\n",
       "8    dg_masters  0.006288\n",
       "7  dg_doctorate  0.001225\n",
       "2     sx_female  0.000418\n",
       "5  rk_associate  0.000000"
      ]
     },
     "execution_count": 15,
     "metadata": {},
     "output_type": "execute_result"
    }
   ],
   "source": [
    "feat_importance = pd.DataFrame({'cols':x.columns, 'imp':m.feature_importances_}).sort_values('imp', ascending=False)\n",
    "feat_importance"
   ]
  },
  {
   "cell_type": "code",
   "execution_count": 16,
   "metadata": {},
   "outputs": [
    {
     "data": {
      "image/png": "[encoded data removed]",
      "text/plain": [
       "<matplotlib.figure.Figure at 0x7f785a20b8d0>"
      ]
     },
     "metadata": {},
     "output_type": "display_data"
    }
   ],
   "source": [
    "feat_importance.plot('cols', 'imp', 'barh', figsize=(12,7), legend=False);"
   ]
  },
  {
   "cell_type": "markdown",
   "metadata": {},
   "source": [
    "# Tree interpreter"
   ]
  },
  {
   "cell_type": "code",
   "execution_count": 17,
   "metadata": {},
   "outputs": [
    {
     "data": {
      "text/html": [
       "<div>\n",
       "<style scoped>\n",
       "    .dataframe tbody tr th:only-of-type {\n",
       "        vertical-align: middle;\n",
       "    }\n",
       "\n",
       "    .dataframe tbody tr th {\n",
       "        vertical-align: top;\n",
       "    }\n",
       "\n",
       "    .dataframe thead th {\n",
       "        text-align: right;\n",
       "    }\n",
       "</style>\n",
       "<table border=\"1\" class=\"dataframe\">\n",
       "  <thead>\n",
       "    <tr style=\"text-align: right;\">\n",
       "      <th></th>\n",
       "      <th>yr</th>\n",
       "      <th>yd</th>\n",
       "      <th>sx_female</th>\n",
       "      <th>sx_male</th>\n",
       "      <th>rk_assistant</th>\n",
       "      <th>rk_associate</th>\n",
       "      <th>rk_full</th>\n",
       "      <th>dg_doctorate</th>\n",
       "      <th>dg_masters</th>\n",
       "    </tr>\n",
       "  </thead>\n",
       "  <tbody>\n",
       "    <tr>\n",
       "      <th>37</th>\n",
       "      <td>4</td>\n",
       "      <td>4</td>\n",
       "      <td>0</td>\n",
       "      <td>1</td>\n",
       "      <td>1</td>\n",
       "      <td>0</td>\n",
       "      <td>0</td>\n",
       "      <td>1</td>\n",
       "      <td>0</td>\n",
       "    </tr>\n",
       "  </tbody>\n",
       "</table>\n",
       "</div>"
      ],
      "text/plain": [
       "    yr  yd  sx_female  sx_male  rk_assistant  rk_associate  rk_full  \\\n",
       "37   4   4          0        1             1             0        0   \n",
       "\n",
       "    dg_doctorate  dg_masters  \n",
       "37             1           0  "
      ]
     },
     "execution_count": 17,
     "metadata": {},
     "output_type": "execute_result"
    }
   ],
   "source": [
    "sample = x.sample()\n",
    "sample"
   ]
  },
  {
   "cell_type": "code",
   "execution_count": 18,
   "metadata": {},
   "outputs": [
    {
     "data": {
      "text/plain": [
       "(17347.5, 23797.653846153848, 17095)"
      ]
     },
     "execution_count": 18,
     "metadata": {},
     "output_type": "execute_result"
    }
   ],
   "source": [
    "prediction, bias, contributions = treeinterpreter.predict(m, sample)\n",
    "prediction[0], bias[0], y[sample.index[0]]"
   ]
  },
  {
   "cell_type": "code",
   "execution_count": 19,
   "metadata": {},
   "outputs": [
    {
     "data": {
      "image/png": "[encoded data removed]",
      "text/plain": [
       "<matplotlib.figure.Figure at 0x7f785a4e6f60>"
      ]
     },
     "metadata": {},
     "output_type": "display_data"
    }
   ],
   "source": [
    "waterfallplot(sample, contributions[0], size=(12,5));"
   ]
  }
 ],
 "metadata": {
  "kernelspec": {
   "display_name": "Python 3",
   "language": "python",
   "name": "python3"
  },
  "language_info": {
   "codemirror_mode": {
    "name": "ipython",
    "version": 3
   },
   "file_extension": ".py",
   "mimetype": "text/x-python",
   "name": "python",
   "nbconvert_exporter": "python",
   "pygments_lexer": "ipython3",
   "version": "3.6.4"
  }
 },
 "nbformat": 4,
 "nbformat_minor": 2
}
